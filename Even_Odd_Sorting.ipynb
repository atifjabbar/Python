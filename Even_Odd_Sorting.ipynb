{
 "cells": [
  {
   "cell_type": "markdown",
   "metadata": {},
   "source": [
    "# Assignment - Even/Odd Sorting"
   ]
  },
  {
   "cell_type": "code",
   "execution_count": 18,
   "metadata": {},
   "outputs": [
    {
     "name": "stdout",
     "output_type": "stream",
     "text": [
      "Give Number 1 = 28\n",
      "Give Number 2 = 14\n",
      "Give Number 3 = 55\n",
      "Give Number 4 = 23\n",
      "The even numbers are --> [14, 28]\n",
      "The odd numbers are --> [23, 55]\n"
     ]
    }
   ],
   "source": [
    "num1 = int(input(\"Give Number 1 = \"))\n",
    "num2 = int(input(\"Give Number 2 = \"))\n",
    "num3 = int(input(\"Give Number 3 = \"))\n",
    "num4 = int(input(\"Give Number 4 = \"))\n",
    "\n",
    "even = []\n",
    "odd = []\n",
    "\n",
    "cond = num1 % 2\n",
    "if cond == 0:\n",
    "    even.append(num1)\n",
    "else:\n",
    "    odd.append(num1)\n",
    "cond = num2 % 2\n",
    "if cond == 0:\n",
    "    even.append(num2)\n",
    "else:\n",
    "    odd.append(num2)\n",
    "cond = num3 % 2\n",
    "if cond == 0:\n",
    "    even.append(num3)\n",
    "else:\n",
    "    odd.append(num3)\n",
    "cond = num4 % 2\n",
    "if cond == 0:\n",
    "    even.append(num4)\n",
    "else:\n",
    "    odd.append(num4)\n",
    "\n",
    "even.sort()\n",
    "odd.sort()\n",
    "    \n",
    "print(\"The even numbers are --> \" + str(even))\n",
    "print(\"The odd numbers are --> \" + str(odd))"
   ]
  },
  {
   "cell_type": "code",
   "execution_count": null,
   "metadata": {},
   "outputs": [],
   "source": []
  }
 ],
 "metadata": {
  "kernelspec": {
   "display_name": "Python 3",
   "language": "python",
   "name": "python3"
  },
  "language_info": {
   "codemirror_mode": {
    "name": "ipython",
    "version": 3
   },
   "file_extension": ".py",
   "mimetype": "text/x-python",
   "name": "python",
   "nbconvert_exporter": "python",
   "pygments_lexer": "ipython3",
   "version": "3.7.3"
  }
 },
 "nbformat": 4,
 "nbformat_minor": 2
}
