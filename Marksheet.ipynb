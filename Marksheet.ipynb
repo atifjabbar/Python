{
 "cells": [
  {
   "cell_type": "code",
   "execution_count": 1,
   "metadata": {},
   "outputs": [
    {
     "name": "stdout",
     "output_type": "stream",
     "text": [
      "Enter Mathematics marks: 90\n",
      "Enter English marks: 80\n",
      "Enter Scince marks: 95\n",
      "** You Get 88 %, A+ Grade, Out Standing **\n"
     ]
    }
   ],
   "source": [
    "maths = int(input(\"Enter Mathematics marks: \"))\n",
    "if maths <= 100:\n",
    "    eng = int(input(\"Enter English marks: \"))\n",
    "    if eng <= 100:\n",
    "        sci = int(input(\"Enter Scince marks: \"))\n",
    "        if sci <= 100:\n",
    "            per = (int(((maths + eng + sci)/300)*100))\n",
    "            if per >= 80:\n",
    "                print(\"** You Get \" + str(per) + \" %, A+ Grade, Out Standing **\")\n",
    "            elif per >= 70:\n",
    "                print(\"** You Get \" + str(per) + \" %, A Grade, Excellent **\")\n",
    "            elif per >= 60:\n",
    "                print(\"** You Get \" + str(per) + \" %, B Grade, Very Good **\")\n",
    "            elif per >= 50:\n",
    "                print(\"** You Get \" + str(per) + \" %, C Grade, Good **\")\n",
    "            else:\n",
    "                print(\"** You Get \" + str(per) + \" %, Fail Fail Fail... **\")\n",
    "        else:\n",
    "            print(\"Kindly Enter Marks Less than 100\")\n",
    "    else:\n",
    "        print(\"Kindly Enter Marks Less than 100\")\n",
    "else:\n",
    "    print(\"Kindly Enter Marks Less than 100\")\n"
   ]
  },
  {
   "cell_type": "code",
   "execution_count": 2,
   "metadata": {},
   "outputs": [
    {
     "name": "stdout",
     "output_type": "stream",
     "text": [
      "Enter Mathematics marks: 90\n",
      "Enter English marks: 80\n",
      "Enter Scince marks: 70\n",
      "** You Get 80 %, A+ Grade, Out Standing **\n"
     ]
    }
   ],
   "source": [
    "maths = int(input(\"Enter Mathematics marks: \"))\n",
    "if maths > 100:\n",
    "    print(\"Kindly Enter Marks Less than 100\")\n",
    "else:\n",
    "    eng = int(input(\"Enter English marks: \"))\n",
    "    if eng > 100:\n",
    "        print(\"Kindly Enter Marks Less than 100\")       \n",
    "    else:\n",
    "        sci = int(input(\"Enter Scince marks: \"))\n",
    "        if sci > 100:\n",
    "            print(\"Kindly Enter Marks Less than 100\")  \n",
    "        else:\n",
    "            per = (int(((maths + eng + sci)/300)*100))\n",
    "            if per >= 80:\n",
    "                print(\"** You Get \" + str(per) + \" %, A+ Grade, Out Standing **\")\n",
    "            elif per >= 70:\n",
    "                print(\"** You Get \" + str(per) + \" %, A Grade, Excellent **\")\n",
    "            elif per >= 60:\n",
    "                print(\"** You Get \" + str(per) + \" %, B Grade, Very Good **\")\n",
    "            elif per >= 50:\n",
    "                print(\"** You Get \" + str(per) + \" %, C Grade, Good **\")\n",
    "            else:\n",
    "                print(\"** You Get \" + str(per) + \" %, Fail Fail Fail... **\")"
   ]
  },
  {
   "cell_type": "code",
   "execution_count": null,
   "metadata": {},
   "outputs": [],
   "source": []
  }
 ],
 "metadata": {
  "kernelspec": {
   "display_name": "Python 3",
   "language": "python",
   "name": "python3"
  },
  "language_info": {
   "codemirror_mode": {
    "name": "ipython",
    "version": 3
   },
   "file_extension": ".py",
   "mimetype": "text/x-python",
   "name": "python",
   "nbconvert_exporter": "python",
   "pygments_lexer": "ipython3",
   "version": "3.7.3"
  }
 },
 "nbformat": 4,
 "nbformat_minor": 2
}
