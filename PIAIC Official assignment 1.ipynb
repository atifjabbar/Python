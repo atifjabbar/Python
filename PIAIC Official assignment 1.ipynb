{
 "cells": [
  {
   "cell_type": "markdown",
   "metadata": {},
   "source": [
    "## 1. Calculate Area of a Circle"
   ]
  },
  {
   "cell_type": "markdown",
   "metadata": {},
   "source": [
    "#### Write a Python program which accepts the radius of a circle from the user and compute the area.\n",
    "###### Program Console Sample Output 1:\n",
    "###### Input Radius: 0.5\n",
    "###### Area of Circle with radius 0.5 is 0.7853981634"
   ]
  },
  {
   "cell_type": "code",
   "execution_count": 10,
   "metadata": {},
   "outputs": [
    {
     "name": "stdout",
     "output_type": "stream",
     "text": [
      "Area of the circle ==> πr^2\n",
      "Enter the radius of circle = 0.5\n",
      "Area of Circle with radius 0.5 is 0.7853975\n"
     ]
    }
   ],
   "source": [
    "print(\"Area of the circle ==> πr^2\")\n",
    "rad = float(input(\"Enter the radius of circle = \"))\n",
    "area = 3.14159 * (rad * rad)\n",
    "print(\"Area of Circle with radius \" + str(rad) + \" is \" + str(area))"
   ]
  },
  {
   "cell_type": "code",
   "execution_count": null,
   "metadata": {},
   "outputs": [],
   "source": []
  },
  {
   "cell_type": "markdown",
   "metadata": {},
   "source": [
    "## 2. Check Number either positive, negative or zero"
   ]
  },
  {
   "cell_type": "markdown",
   "metadata": {},
   "source": [
    "#### Write a Python program to check if a number is positive, negative or zero\n",
    "###### Program Console Sample Output 1:\n",
    "###### Enter Number: -1\n",
    "##### Negative Number Entered\n",
    "###### Program Console Sample Output 2:\n",
    "##### Integer: 3\n",
    "##### Positive Number Entered\n",
    "###### Program Console Sample Output 3:\n",
    "##### Integer: 0\n",
    "###### Zero Entered"
   ]
  },
  {
   "cell_type": "code",
   "execution_count": 1,
   "metadata": {},
   "outputs": [
    {
     "name": "stdout",
     "output_type": "stream",
     "text": [
      "Check Number either positive, negative or zero\n",
      "Plz enter any number: -1\n",
      "Negative Number Entered\n"
     ]
    }
   ],
   "source": [
    "print(\"Check Number either positive, negative or zero\")\n",
    "num = int(input(\"Plz enter any number: \"))\n",
    "if num > 0:\n",
    "    print(\"Positive Number Entered\")\n",
    "elif num < 0:\n",
    "    print(\"Negative Number Entered\")\n",
    "elif num == 0:\n",
    "    print(\"Zero Entered\")\n",
    "else:\n",
    "    print(\"Number is out of range\")"
   ]
  },
  {
   "cell_type": "code",
   "execution_count": 2,
   "metadata": {},
   "outputs": [
    {
     "name": "stdout",
     "output_type": "stream",
     "text": [
      "Check Number either positive, negative or zero\n",
      "Plz enter any number: 3\n",
      "Positive Number Entered\n"
     ]
    }
   ],
   "source": [
    "print(\"Check Number either positive, negative or zero\")\n",
    "num = int(input(\"Plz enter any number: \"))\n",
    "if num > 0:\n",
    "    print(\"Positive Number Entered\")\n",
    "elif num < 0:\n",
    "    print(\"Negative Number Entered\")\n",
    "elif num == 0:\n",
    "    print(\"Zero Entered\")\n",
    "else:\n",
    "    print(\"Number is out of range\")"
   ]
  },
  {
   "cell_type": "code",
   "execution_count": 3,
   "metadata": {},
   "outputs": [
    {
     "name": "stdout",
     "output_type": "stream",
     "text": [
      "Check Number either positive, negative or zero\n",
      "Plz enter any number: 0\n",
      "Zero Entered\n"
     ]
    }
   ],
   "source": [
    "print(\"Check Number either positive, negative or zero\")\n",
    "num = int(input(\"Plz enter any number: \"))\n",
    "if num > 0:\n",
    "    print(\"Positive Number Entered\")\n",
    "elif num < 0:\n",
    "    print(\"Negative Number Entered\")\n",
    "elif num == 0:\n",
    "    print(\"Zero Entered\")\n",
    "else:\n",
    "    print(\"Number is out of range\")"
   ]
  },
  {
   "cell_type": "code",
   "execution_count": null,
   "metadata": {},
   "outputs": [],
   "source": []
  },
  {
   "cell_type": "markdown",
   "metadata": {},
   "source": [
    "## 3. Divisibility Check of two numbers"
   ]
  },
  {
   "cell_type": "markdown",
   "metadata": {},
   "source": [
    "#### Write a Python program to check whether a number is completely divisible by another number. Accept two integer values form the user\n",
    "##### Program Console Sample Output 1:\n",
    "###### Enter numerator: 4\n",
    "###### Enter Denominator: 2\n",
    "##### Number 4 is Completely divisible by 2\n",
    "###### Program Console Sample Output 2:\n",
    "##### Enter numerator: 7\n",
    "\n",
    "##### Enter Denominator: 4\n",
    "###### Number 7 is not Completely divisible by 4"
   ]
  },
  {
   "cell_type": "code",
   "execution_count": 6,
   "metadata": {},
   "outputs": [
    {
     "name": "stdout",
     "output_type": "stream",
     "text": [
      "Divisibility Check of two numbers\n",
      "Enter Numerator: 4\n",
      "Enter Denominator: 2\n",
      "Number 4 is Completely divisible by 2\n"
     ]
    }
   ],
   "source": [
    "print(\"Divisibility Check of two numbers\")\n",
    "num1 = int(input(\"Enter Numerator: \"))\n",
    "num2 = int(input(\"Enter Denominator: \"))\n",
    "if (num1 % num2) == 0:\n",
    "    print(\"Number \" + str(num1) + \" is Completely divisible by \" + str(num2))\n",
    "else:\n",
    "    print(\"Number \" + str(num1) + \" is not Completely divisible by \" + str(num2))    "
   ]
  },
  {
   "cell_type": "code",
   "execution_count": 5,
   "metadata": {},
   "outputs": [
    {
     "name": "stdout",
     "output_type": "stream",
     "text": [
      "Divisibility Check of two numbers\n",
      "Enter Numerator: 7\n",
      "Enter Denominator: 4\n",
      "Number 7 is not Completely divisible by 4\n"
     ]
    }
   ],
   "source": [
    "print(\"Divisibility Check of two numbers\")\n",
    "num1 = int(input(\"Enter Numerator: \"))\n",
    "num2 = int(input(\"Enter Denominator: \"))\n",
    "if (num1 % num2) == 0:\n",
    "    print(\"Number \" + str(num1) + \" is Completely divisible by \" + str(num2))\n",
    "else:\n",
    "    print(\"Number \" + str(num1) + \" is not Completely divisible by \" + str(num2))"
   ]
  },
  {
   "cell_type": "code",
   "execution_count": null,
   "metadata": {},
   "outputs": [],
   "source": []
  },
  {
   "cell_type": "markdown",
   "metadata": {},
   "source": [
    "## 4. Calculate Volume of a sphere"
   ]
  },
  {
   "cell_type": "markdown",
   "metadata": {},
   "source": [
    "##### Write a Python program to get the volume of a sphere, please take the radius as input from user"
   ]
  },
  {
   "cell_type": "markdown",
   "metadata": {},
   "source": [
    "##### Program Console Output:\n",
    "##### Enter Radius of Sphere: 1\n",
    "###### Volume of the Sphere with Radius 1 is 4.18"
   ]
  },
  {
   "cell_type": "code",
   "execution_count": 11,
   "metadata": {},
   "outputs": [
    {
     "name": "stdout",
     "output_type": "stream",
     "text": [
      "Volume of a sphere ==> = (4/3)πr^3\n",
      "Enter the radius of sphere = 1\n",
      "Volume of the sphere with radius 1.0 is 4.188786666666666\n"
     ]
    }
   ],
   "source": [
    "print(\"Volume of a sphere ==> = (4/3)πr^3\")\n",
    "rad = float(input(\"Enter the radius of sphere = \"))\n",
    "vol = ((4/3) * 3.14159 * (rad * rad * rad))\n",
    "print(\"Volume of the sphere with radius \" + str(rad) + \" is \" + str(vol))"
   ]
  },
  {
   "cell_type": "code",
   "execution_count": null,
   "metadata": {},
   "outputs": [],
   "source": []
  },
  {
   "cell_type": "markdown",
   "metadata": {},
   "source": [
    "## 5. Copy string n times\n",
    "#### Write a Python program to get a string which is n (non-negative integer) copies of a given string.\n",
    "##### Program Console Output:\n",
    "##### Enter String: Hi\n",
    "###### How many copies of String you need: 4\n",
    "###### 4 Copies of Hi are HiHiHiHi"
   ]
  },
  {
   "cell_type": "code",
   "execution_count": 16,
   "metadata": {},
   "outputs": [
    {
     "name": "stdout",
     "output_type": "stream",
     "text": [
      "Copy string n times\n",
      "Enter String: Hi\n",
      "How many copies of String you need: 4\n",
      "4 Copies of Hi are HiHiHiHi\n"
     ]
    }
   ],
   "source": [
    "print(\"Copy string n times\")\n",
    "ipt = input(\"Enter String: \")\n",
    "cop = int(input(\"How many copies of String you need: \"))\n",
    "if cop >= 0:\n",
    "    copies = cop * ipt\n",
    "    print(str(cop) + \" Copies of \" + ipt + \" are \" + copies)\n",
    "else:\n",
    "    print(\"You enter invalid range\")"
   ]
  },
  {
   "cell_type": "code",
   "execution_count": 17,
   "metadata": {},
   "outputs": [
    {
     "name": "stdout",
     "output_type": "stream",
     "text": [
      "Copy string n times\n",
      "Enter String: Hi\n",
      "How many copies of String you need: -5\n",
      "You enter invalid range\n"
     ]
    }
   ],
   "source": [
    "print(\"Copy string n times\")\n",
    "ipt = input(\"Enter String: \")\n",
    "cop = int(input(\"How many copies of String you need: \"))\n",
    "if cop >= 0:\n",
    "    copies = cop * ipt\n",
    "    print(str(cop) + \" Copies of \" + ipt + \" are \" + copies)\n",
    "else:\n",
    "    print(\"You enter invalid range\")"
   ]
  },
  {
   "cell_type": "code",
   "execution_count": null,
   "metadata": {},
   "outputs": [],
   "source": []
  },
  {
   "cell_type": "markdown",
   "metadata": {},
   "source": [
    "## 6. Check if number is Even or Odd\n",
    "### Write a Python program to find whether a given number (accept from the user) is even or odd, print out an appropriate message to the user\n",
    "#### Program Console Output 1:\n",
    "##### Enter Number: 4\n",
    "###### 4 is Even\n",
    "#### Program Console Output 2:\n",
    "##### Enter Number: 9\n",
    "###### 9 is Odd"
   ]
  },
  {
   "cell_type": "code",
   "execution_count": 19,
   "metadata": {},
   "outputs": [
    {
     "name": "stdout",
     "output_type": "stream",
     "text": [
      "Check if number is Even or Odd\n",
      "Enter Number: 4\n",
      "4 is Even\n"
     ]
    }
   ],
   "source": [
    "print(\"Check if number is Even or Odd\")\n",
    "num1 = int(input('Enter Number: '))\n",
    "cond = num1 % 2\n",
    "if cond == 0:\n",
    "    print(str(num1) + ' is Even')\n",
    "else:\n",
    "    print(str(num1) + ' is Odd')"
   ]
  },
  {
   "cell_type": "code",
   "execution_count": 20,
   "metadata": {},
   "outputs": [
    {
     "name": "stdout",
     "output_type": "stream",
     "text": [
      "Check if number is Even or Odd\n",
      "Enter Number: 9\n",
      "9 is Odd\n"
     ]
    }
   ],
   "source": [
    "print(\"Check if number is Even or Odd\")\n",
    "num1 = int(input('Enter Number: '))\n",
    "cond = num1 % 2\n",
    "if cond == 0:\n",
    "    print(str(num1) + ' is Even')\n",
    "else:\n",
    "    print(str(num1) + ' is Odd')"
   ]
  },
  {
   "cell_type": "code",
   "execution_count": null,
   "metadata": {},
   "outputs": [],
   "source": []
  },
  {
   "cell_type": "markdown",
   "metadata": {},
   "source": [
    "## 7. Vowel Tester\n",
    "### Write a Python program to test whether a passed letter is a vowel or not\n",
    "#### Program Console Output 1:\n",
    "##### Enter a character: A\n",
    "###### Letter A is Vowel\n",
    "#### Program Console Output 2:\n",
    "##### Enter a character: e\n",
    "###### Letter e is Vowel\n",
    "#### Program Console Output 2:\n",
    "##### Enter a character: N\n",
    "###### Letter N is not Vowel"
   ]
  },
  {
   "cell_type": "code",
   "execution_count": 26,
   "metadata": {},
   "outputs": [
    {
     "name": "stdout",
     "output_type": "stream",
     "text": [
      "Vowel Tester\n",
      "Enter a character: A\n",
      "Letter A is a Vowel\n"
     ]
    }
   ],
   "source": [
    "print(\"Vowel Tester\")\n",
    "chara = input(\"Enter a character: \")\n",
    "char = chara.lower()\n",
    "if char == \"a\" or char == \"e\" or char == \"i\" or char == \"o\" or char == \"u\":\n",
    "    print(\"Letter \" + chara + \" is a Vowel\")\n",
    "else:\n",
    "    print(\"Letter \" + chara + \" is not a Vowel\")"
   ]
  },
  {
   "cell_type": "code",
   "execution_count": 27,
   "metadata": {},
   "outputs": [
    {
     "name": "stdout",
     "output_type": "stream",
     "text": [
      "Vowel Tester\n",
      "Enter a character: e\n",
      "Letter e is a Vowel\n"
     ]
    }
   ],
   "source": [
    "print(\"Vowel Tester\")\n",
    "chara = input(\"Enter a character: \")\n",
    "char = chara.lower()\n",
    "if char == \"a\" or char == \"e\" or char == \"i\" or char == \"o\" or char == \"u\":\n",
    "    print(\"Letter \" + chara + \" is a Vowel\")\n",
    "else:\n",
    "    print(\"Letter \" + chara + \" is not a Vowel\")"
   ]
  },
  {
   "cell_type": "code",
   "execution_count": 28,
   "metadata": {},
   "outputs": [
    {
     "name": "stdout",
     "output_type": "stream",
     "text": [
      "Vowel Tester\n",
      "Enter a character: N\n",
      "Letter N is not a Vowel\n"
     ]
    }
   ],
   "source": [
    "print(\"Vowel Tester\")\n",
    "chara = input(\"Enter a character: \")\n",
    "char = chara.lower()\n",
    "if char == \"a\" or char == \"e\" or char == \"i\" or char == \"o\" or char == \"u\":\n",
    "    print(\"Letter \" + chara + \" is a Vowel\")\n",
    "else:\n",
    "    print(\"Letter \" + chara + \" is not a Vowel\")"
   ]
  },
  {
   "cell_type": "code",
   "execution_count": null,
   "metadata": {},
   "outputs": [],
   "source": []
  },
  {
   "cell_type": "markdown",
   "metadata": {},
   "source": [
    "## 8. Triangle area\n",
    "### Write a Python program that will accept the base and height of a triangle and compute the area\n",
    "###### Reference:\n",
    "https://www.mathgoodies.com/lessons/vol1/area_triangle"
   ]
  },
  {
   "cell_type": "code",
   "execution_count": 30,
   "metadata": {},
   "outputs": [
    {
     "name": "stdout",
     "output_type": "stream",
     "text": [
      "Area of the triangle ==> ((1/2)*bh)\n",
      "Enter the base value of triangle: 10\n",
      "Enter the height value of triangle: 5\n",
      "Area of Triangle with base 10.0 & height 5.0 is 25.0\n"
     ]
    }
   ],
   "source": [
    "print(\"Area of the triangle ==> ((1/2)*bh)\")\n",
    "b = float(input(\"Enter the base value of triangle: \"))\n",
    "h = float(input(\"Enter the height value of triangle: \"))\n",
    "area = ((1/2) * b * h)\n",
    "print(\"Area of Triangle with base \" + str(b) + \" & height \" + str(h) + \" is \" + str(area))"
   ]
  },
  {
   "cell_type": "code",
   "execution_count": null,
   "metadata": {},
   "outputs": [],
   "source": []
  },
  {
   "cell_type": "markdown",
   "metadata": {},
   "source": [
    "## 9. Calculate Interest\n",
    "### Write a Python program to compute the future value of a specified principal amount, rate of interest, and a number of years\n",
    "#### Program Console Sample 1:\n",
    "##### Please enter principal amount: 10000\n",
    "###### Please Enter Rate of interest in %: 0.1\n",
    "###### Enter number of years for investment: 5\n",
    "###### After 5 years your principal amount 10000 over an interest rate of 0.1 % will be 16105.1"
   ]
  },
  {
   "cell_type": "code",
   "execution_count": 31,
   "metadata": {},
   "outputs": [
    {
     "name": "stdout",
     "output_type": "stream",
     "text": [
      "Calculate Simple Interest\n",
      "Please Enter principal amount: 10000\n",
      "Please Enter Rate of interest in %: 0.1\n",
      "Enter number of years for investment: 5\n",
      "After 5 years your principal amount 10000 over an interest rate of 0.1 % will be 100.051\n"
     ]
    }
   ],
   "source": [
    "print(\"Calculate Simple Interest\")\n",
    "prinAmnt = int(input(\"Please Enter principal amount: \"))\n",
    "intRate = float(input(\"Please Enter Rate of interest in %: \"))\n",
    "years = int(input(\"Enter number of years for investment: \"))\n",
    "si = (prinAmnt + intRate + years)/100\n",
    "print(\"After\",years,\"years your principal amount\",prinAmnt,\"over an interest rate of\",intRate,\"% will be\",si)\n"
   ]
  },
  {
   "cell_type": "code",
   "execution_count": 32,
   "metadata": {},
   "outputs": [
    {
     "name": "stdout",
     "output_type": "stream",
     "text": [
      "Calculate Interest\n",
      "Please Enter principle amount: 10000\n",
      "Please Enter Rate of interest in %: 0.1\n",
      "Enter number of years for investment: 5\n",
      "After 5 years your principal amount 10000 over an interest rate of 0.1 % will be 15000.0\n"
     ]
    }
   ],
   "source": [
    "print(\"Calculate Interest\")\n",
    "prinAmnt = int(input(\"Please Enter principle amount: \"))\n",
    "intRate = float(input(\"Please Enter Rate of interest in %: \"))\n",
    "years = int(input(\"Enter number of years for investment: \"))\n",
    "si = prinAmnt * (1 + (intRate * years))\n",
    "print(\"After\",years,\"years your principal amount\",prinAmnt,\"over an interest rate of\",intRate,\"% will be\",si)"
   ]
  },
  {
   "cell_type": "code",
   "execution_count": null,
   "metadata": {},
   "outputs": [],
   "source": []
  },
  {
   "cell_type": "markdown",
   "metadata": {},
   "source": [
    "## 10. Euclidean distance\n",
    "### write a Python program to compute the distance between the points (x1, y1) and (x2, y2).\n",
    "#### Program Console Sample 1:\n",
    "###### Enter Co-ordinate for x1: 2\n",
    "###### Enter Co-ordinate for x2: 4\n",
    "###### Enter Co-ordinate for y1: 4\n",
    "###### Enter Co-ordinate for y2: 4\n",
    "###### Distance between points (2, 4) and (4, 4) is 2"
   ]
  },
  {
   "cell_type": "markdown",
   "metadata": {},
   "source": [
    "###### Reference:\n",
    "https://en.wikipedia.org/wiki/Euclidean_distance"
   ]
  },
  {
   "cell_type": "code",
   "execution_count": 14,
   "metadata": {},
   "outputs": [
    {
     "name": "stdout",
     "output_type": "stream",
     "text": [
      "Euclidean distance\n",
      "Enter Co-ordinate for x1: 2\n",
      "Enter Co-ordinate for x2: 4\n",
      "Enter Co-ordinate for y1: 4\n",
      "Enter Co-ordinate for y2: 4\n",
      "Distance between points (2,4) and (4,4) is 2.0\n"
     ]
    }
   ],
   "source": [
    "print(\"Euclidean distance\")\n",
    "import math\n",
    "x1 = int(input(\"Enter Co-ordinate for x1: \"))\n",
    "x2 = int(input(\"Enter Co-ordinate for x2: \"))\n",
    "y1 = int(input(\"Enter Co-ordinate for y1: \"))\n",
    "y2 = int(input(\"Enter Co-ordinate for y2: \"))\n",
    "dist = math.sqrt(((y1 - x1)*(y1 - x1)) + ((y2 - x2)*(y2 - x2)))\n",
    "print(\"Distance between points (\" + str(x1) + \",\" + str(x2) + \") and (\" + str(y1) + \",\" + str(y2) + \") is \" + str(dist))\n"
   ]
  },
  {
   "cell_type": "code",
   "execution_count": null,
   "metadata": {},
   "outputs": [],
   "source": []
  },
  {
   "cell_type": "markdown",
   "metadata": {},
   "source": [
    "## 11. Feet to Centimeter Converter\n",
    "### Write a Python program to convert height in feet to centimetres.\n",
    "##### Program Console Sample 1:\n",
    "###### Enter Height in Feet: 5\n",
    "###### There are 152.4 Cm in 5 ft\n",
    "###### Reference:\n",
    "https://www.rapidtables.com/convert/length/feet-to-cm.html"
   ]
  },
  {
   "cell_type": "code",
   "execution_count": 34,
   "metadata": {},
   "outputs": [
    {
     "name": "stdout",
     "output_type": "stream",
     "text": [
      "Feet to Centimeter Converter\n",
      "Enter Height in Feet: 5\n",
      "There are 152.4 Cm in 5.0 ft\n"
     ]
    }
   ],
   "source": [
    "print(\"Feet to Centimeter Converter\")\n",
    "hgt = float(input(\"Enter Height in Feet: \"))\n",
    "conv = hgt * 30.48\n",
    "print(\"There are \" + str(conv) + \" Cm in \" + str(hgt) + \" ft\")"
   ]
  },
  {
   "cell_type": "code",
   "execution_count": null,
   "metadata": {},
   "outputs": [],
   "source": []
  },
  {
   "cell_type": "markdown",
   "metadata": {},
   "source": [
    "## 12. BMI Calculator\n",
    "### Write a Python program to calculate body mass index\n",
    "##### Program Console Sample 1:\n",
    "###### Enter Height in Cm: 180\n",
    "###### Enter Weight in Kg: 75\n",
    "###### Your BMI is 23.15"
   ]
  },
  {
   "cell_type": "code",
   "execution_count": 40,
   "metadata": {},
   "outputs": [
    {
     "name": "stdout",
     "output_type": "stream",
     "text": [
      "BMI Calculator\n",
      "Enter Height in Cm: 180\n",
      "Enter Weight in Kg: 75\n",
      "Your BMI is 23.148148148148145\n"
     ]
    }
   ],
   "source": [
    "print(\"BMI Calculator\")\n",
    "hgt = int(input(\"Enter Height in Cm: \")) / 100\n",
    "wgt = int(input(\"Enter Weight in Kg: \"))\n",
    "bmi = (wgt / (hgt * hgt))\n",
    "print(\"Your BMI is \" + str(bmi))"
   ]
  },
  {
   "cell_type": "code",
   "execution_count": null,
   "metadata": {},
   "outputs": [],
   "source": []
  },
  {
   "cell_type": "markdown",
   "metadata": {},
   "source": [
    "## 13. Sum of n Positive Integers\n",
    "### Write a python program to sum of the first n positive integers\n",
    "#### Program Console Sample 1:\n",
    "###### Enter value of n: 5\n",
    "###### Sum of n Positive integers till 5 is 15"
   ]
  },
  {
   "cell_type": "code",
   "execution_count": 57,
   "metadata": {},
   "outputs": [
    {
     "name": "stdout",
     "output_type": "stream",
     "text": [
      "Sum of n Positive Integers\n",
      "Enter value of n: 5\n",
      "Sum of n Positive integers till 5 is 15\n"
     ]
    }
   ],
   "source": [
    "print(\"Sum of n Positive Integers\")\n",
    "value = int(input(\"Enter value of n: \")) + 1\n",
    "prevalue = 0\n",
    "for x in range(0, value, 1):\n",
    "    prevalue = prevalue + x\n",
    "print(\"Sum of n Positive integers till \" + str(value - 1) + \" is \" + str(prevalue))"
   ]
  },
  {
   "cell_type": "code",
   "execution_count": null,
   "metadata": {},
   "outputs": [],
   "source": []
  },
  {
   "cell_type": "markdown",
   "metadata": {},
   "source": [
    "## 14. Digits Sum of a Number\n",
    "### Write a Python program to calculate the sum of the digits in an integer\n",
    "#### Program Console Sample 1:\n",
    "##### Enter a number: 15\n",
    "###### Sum of 1 + 5 is 6\n",
    "#### Program Console Sample 2:\n",
    "##### Enter a number: 1234\n",
    "###### Sum of 1 + 2 + 3 + 4 is 10"
   ]
  },
  {
   "cell_type": "code",
   "execution_count": 28,
   "metadata": {},
   "outputs": [
    {
     "name": "stdout",
     "output_type": "stream",
     "text": [
      "Enter a number:15\n",
      "Sum of  1 + 5 is: 6\n"
     ]
    }
   ],
   "source": [
    "n=int(input(\"Enter a number:\"))\n",
    "tot=0\n",
    "var = []\n",
    "while(n>0):\n",
    "    dig=n%10\n",
    "    var.append(dig)\n",
    "    tot=tot+dig\n",
    "    n=n//10\n",
    "print(\"Sum of \",var[1],\"+\",var[0],\"is:\",tot)"
   ]
  },
  {
   "cell_type": "code",
   "execution_count": 27,
   "metadata": {},
   "outputs": [
    {
     "name": "stdout",
     "output_type": "stream",
     "text": [
      "Enter a number:1234\n",
      "Sum of  1 + 2 + 3 + 4 is: 10\n"
     ]
    }
   ],
   "source": [
    "n=int(input(\"Enter a number:\"))\n",
    "tot=0\n",
    "var = []\n",
    "while(n>0):\n",
    "    dig=n%10\n",
    "    var.append(dig)\n",
    "    tot=tot+dig\n",
    "    n=n//10\n",
    "print(\"Sum of \",var[3],\"+\",var[2],\"+\",var[1],\"+\",var[0],\"is:\",tot)"
   ]
  },
  {
   "cell_type": "code",
   "execution_count": null,
   "metadata": {},
   "outputs": [],
   "source": []
  }
 ],
 "metadata": {
  "kernelspec": {
   "display_name": "Python 3",
   "language": "python",
   "name": "python3"
  },
  "language_info": {
   "codemirror_mode": {
    "name": "ipython",
    "version": 3
   },
   "file_extension": ".py",
   "mimetype": "text/x-python",
   "name": "python",
   "nbconvert_exporter": "python",
   "pygments_lexer": "ipython3",
   "version": "3.7.3"
  }
 },
 "nbformat": 4,
 "nbformat_minor": 2
}
