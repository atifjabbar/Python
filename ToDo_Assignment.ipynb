{
 "cells": [
  {
   "cell_type": "code",
   "execution_count": 15,
   "metadata": {},
   "outputs": [
    {
     "name": "stdout",
     "output_type": "stream",
     "text": [
      "                                      Daily ToDo List                              \n",
      " \n",
      "['Fajr', 'Exercise', 'Quran', 'Zuhar', 'Rest', 'Asr', 'Iftari', 'Maghrib', 'Isha', 'Tarawih']\n"
     ]
    }
   ],
   "source": [
    "print(\"                                      Daily ToDo List                              \")\n",
    "print(\" \")\n",
    "workList = [\"Fajr\",\"Exercise\",\"Quran\",\"Zuhar\",\"Rest\",\"Asr\",\"Iftari\",\"Maghrib\",\"Isha\",\"Tarawih\"]\n",
    "workDone = []\n",
    "print(workList)"
   ]
  },
  {
   "cell_type": "code",
   "execution_count": 25,
   "metadata": {},
   "outputs": [
    {
     "name": "stdout",
     "output_type": "stream",
     "text": [
      "Enter your progress what you have done tarawih\n",
      " \n",
      "Remaining work you didn't do\n",
      "['Zuhar', 'Isha']\n",
      " \n",
      "Work you have done Today\n",
      "['Fajr', 'Exercise', 'Quran', 'Rest', 'Asr', 'Maghrib', 'Iftari', 'Tarawih']\n"
     ]
    }
   ],
   "source": [
    "userInput = input(\"Enter your progress what you have done \").title()\n",
    "if workList[0] == userInput:\n",
    "    l1 = workList.pop(0)\n",
    "    workDone.append(l1)\n",
    "elif workList[1] == userInput:\n",
    "    l1 = workList.pop(1)\n",
    "    workDone.append(l1)\n",
    "elif workList[2] == userInput:\n",
    "    l1 = workList.pop(2)\n",
    "    workDone.append(l1)\n",
    "elif workList[3] == userInput:\n",
    "    l1 = workList.pop(3)\n",
    "    workDone.append(l1)\n",
    "elif workList[4] == userInput:\n",
    "    l1 = workList.pop(4)\n",
    "    workDone.append(l1)\n",
    "elif workList[5] == userInput:\n",
    "    l1 = workList.pop(5)\n",
    "    workDone.append(l1)\n",
    "elif workList[6] == userInput:\n",
    "    l1 = workList.pop(6)\n",
    "    workDone.append(l1)\n",
    "elif workList[7] == userInput:\n",
    "    l1 = workList.pop(7)\n",
    "    workDone.append(l1)\n",
    "elif workList[8] == userInput:\n",
    "    l1 = workList.pop(8)\n",
    "    workDone.append(l1)\n",
    "elif workList[9] == userInput:\n",
    "    l1 = workList.pop(9)\n",
    "    workDone.append(l1)\n",
    "else:\n",
    "    print(\"Your work progress not present in the list\")\n",
    "\n",
    "print(\" \")\n",
    "print(\"Remaining work you didn't do\")\n",
    "print(workList)\n",
    "print(\" \")\n",
    "print(\"Work you have done Today\")\n",
    "print(workDone)"
   ]
  },
  {
   "cell_type": "code",
   "execution_count": null,
   "metadata": {},
   "outputs": [],
   "source": []
  }
 ],
 "metadata": {
  "kernelspec": {
   "display_name": "Python 3",
   "language": "python",
   "name": "python3"
  },
  "language_info": {
   "codemirror_mode": {
    "name": "ipython",
    "version": 3
   },
   "file_extension": ".py",
   "mimetype": "text/x-python",
   "name": "python",
   "nbconvert_exporter": "python",
   "pygments_lexer": "ipython3",
   "version": "3.7.3"
  }
 },
 "nbformat": 4,
 "nbformat_minor": 2
}
